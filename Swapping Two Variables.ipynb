{
 "cells": [
  {
   "cell_type": "code",
   "execution_count": 4,
   "id": "37369416",
   "metadata": {},
   "outputs": [
    {
     "name": "stdout",
     "output_type": "stream",
     "text": [
      "Second String\n",
      "first String\n"
     ]
    }
   ],
   "source": [
    "v1 = \"first String\"\n",
    "v2 = \"Second String\"\n",
    "\n",
    "temp = v1 \n",
    "v1=v2 \n",
    "v2 = temp\n",
    "\n",
    "print(v1)\n",
    "print(v2)\n"
   ]
  },
  {
   "cell_type": "code",
   "execution_count": null,
   "id": "eb7120a0",
   "metadata": {},
   "outputs": [],
   "source": []
  }
 ],
 "metadata": {
  "kernelspec": {
   "display_name": "Python 3 (ipykernel)",
   "language": "python",
   "name": "python3"
  },
  "language_info": {
   "codemirror_mode": {
    "name": "ipython",
    "version": 3
   },
   "file_extension": ".py",
   "mimetype": "text/x-python",
   "name": "python",
   "nbconvert_exporter": "python",
   "pygments_lexer": "ipython3",
   "version": "3.9.13"
  }
 },
 "nbformat": 4,
 "nbformat_minor": 5
}
