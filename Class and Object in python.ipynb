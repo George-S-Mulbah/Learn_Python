{
 "cells": [
  {
   "cell_type": "code",
   "execution_count": 6,
   "id": "8c711349",
   "metadata": {},
   "outputs": [],
   "source": [
    "class Robot:\n",
    "    def __init__(self,name,color,weigh):\n",
    "        self.name = name\n",
    "        self.color= color\n",
    "        self.weigh= weigh\n",
    "        \n",
    "    def instroduce_self(self):\n",
    "        print(\"This is \" +self.name)"
   ]
  },
  {
   "cell_type": "code",
   "execution_count": 7,
   "id": "2249178a",
   "metadata": {},
   "outputs": [],
   "source": [
    "r1 = Robot(\"Tom\",\"blue\",30)"
   ]
  },
  {
   "cell_type": "code",
   "execution_count": 8,
   "id": "d04e267a",
   "metadata": {},
   "outputs": [
    {
     "name": "stdout",
     "output_type": "stream",
     "text": [
      "This is Tom\n"
     ]
    }
   ],
   "source": [
    "r1.instroduce_self()"
   ]
  },
  {
   "cell_type": "code",
   "execution_count": null,
   "id": "4515ecaa",
   "metadata": {},
   "outputs": [],
   "source": []
  }
 ],
 "metadata": {
  "kernelspec": {
   "display_name": "Python 3 (ipykernel)",
   "language": "python",
   "name": "python3"
  },
  "language_info": {
   "codemirror_mode": {
    "name": "ipython",
    "version": 3
   },
   "file_extension": ".py",
   "mimetype": "text/x-python",
   "name": "python",
   "nbconvert_exporter": "python",
   "pygments_lexer": "ipython3",
   "version": "3.9.13"
  }
 },
 "nbformat": 4,
 "nbformat_minor": 5
}
