{
 "cells": [
  {
   "cell_type": "code",
   "execution_count": 1,
   "id": "85054b87",
   "metadata": {},
   "outputs": [
    {
     "name": "stdout",
     "output_type": "stream",
     "text": [
      "apple\n",
      "banana\n",
      "repulic\n"
     ]
    }
   ],
   "source": [
    "a = [\"apple\",\"banana\",\"repulic\"]\n",
    "\n",
    "for el in a :\n",
    "    print(el)"
   ]
  },
  {
   "cell_type": "code",
   "execution_count": 5,
   "id": "67fe41e1",
   "metadata": {},
   "outputs": [
    {
     "name": "stdout",
     "output_type": "stream",
     "text": [
      "apple\n",
      "banana\n",
      "banana\n",
      "repulic\n",
      "repulic\n",
      "repulic\n"
     ]
    }
   ],
   "source": [
    "for i in range(len(a)) :\n",
    "    for j in range(i+1):\n",
    "        print(a[i])"
   ]
  },
  {
   "cell_type": "code",
   "execution_count": 7,
   "id": "b6206b0e",
   "metadata": {},
   "outputs": [
    {
     "name": "stdout",
     "output_type": "stream",
     "text": [
      "-10\n"
     ]
    }
   ],
   "source": [
    "#given a list search in it for all negative number less than 0 and add it \n",
    "\n",
    "given_list =[5,4,3,2,1,0,-1,-2,-3,-4];\n",
    "\n",
    "j = len(given_list)-1\n",
    "\n",
    "total=0\n",
    "\n",
    "\n",
    "while given_list[j] < 0:\n",
    "    total+=given_list[j]\n",
    "    j-=1\n",
    "print(total)"
   ]
  },
  {
   "cell_type": "code",
   "execution_count": null,
   "id": "a8a8e8f9",
   "metadata": {},
   "outputs": [],
   "source": []
  }
 ],
 "metadata": {
  "kernelspec": {
   "display_name": "Python 3 (ipykernel)",
   "language": "python",
   "name": "python3"
  },
  "language_info": {
   "codemirror_mode": {
    "name": "ipython",
    "version": 3
   },
   "file_extension": ".py",
   "mimetype": "text/x-python",
   "name": "python",
   "nbconvert_exporter": "python",
   "pygments_lexer": "ipython3",
   "version": "3.9.13"
  }
 },
 "nbformat": 4,
 "nbformat_minor": 5
}
