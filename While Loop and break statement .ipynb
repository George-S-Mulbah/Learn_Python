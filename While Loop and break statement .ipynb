{
 "cells": [
  {
   "cell_type": "code",
   "execution_count": 6,
   "id": "41886c54",
   "metadata": {},
   "outputs": [
    {
     "name": "stdout",
     "output_type": "stream",
     "text": [
      "17\n"
     ]
    }
   ],
   "source": [
    "given_list = [5,4,4,3,1,0]\n",
    "\n",
    "addVariable=0\n",
    "\n",
    "i=0\n",
    "\n",
    "while i < len(given_list) and given_list[i] > 0:\n",
    "    addVariable += given_list[i]\n",
    "    i +=1\n",
    "print(addVariable)"
   ]
  },
  {
   "cell_type": "code",
   "execution_count": 8,
   "id": "b2d2c4c8",
   "metadata": {},
   "outputs": [
    {
     "name": "stdout",
     "output_type": "stream",
     "text": [
      "17\n"
     ]
    }
   ],
   "source": [
    "given_list2 = [5,4,4,3,1,0,-1,-2,-3,-4]\n",
    "\n",
    "addVariable2=0\n",
    "\n",
    "for el in given_list2:\n",
    "    if el <= 0:\n",
    "        break\n",
    "    addVariable2 +=el\n",
    "    \n",
    "print(addVariable2)"
   ]
  },
  {
   "cell_type": "code",
   "execution_count": 10,
   "id": "660b3f11",
   "metadata": {},
   "outputs": [
    {
     "name": "stdout",
     "output_type": "stream",
     "text": [
      "17\n"
     ]
    }
   ],
   "source": [
    "addVariable3 =0\n",
    "\n",
    "i = 0\n",
    "while True :\n",
    "    addVariable3 += given_list2[i]\n",
    "    i += 1\n",
    "    if given_list2[i] <=0:\n",
    "        break\n",
    "        \n",
    "print(addVariable3)"
   ]
  },
  {
   "cell_type": "code",
   "execution_count": null,
   "id": "9338aaa9",
   "metadata": {},
   "outputs": [],
   "source": []
  }
 ],
 "metadata": {
  "kernelspec": {
   "display_name": "Python 3 (ipykernel)",
   "language": "python",
   "name": "python3"
  },
  "language_info": {
   "codemirror_mode": {
    "name": "ipython",
    "version": 3
   },
   "file_extension": ".py",
   "mimetype": "text/x-python",
   "name": "python",
   "nbconvert_exporter": "python",
   "pygments_lexer": "ipython3",
   "version": "3.9.13"
  }
 },
 "nbformat": 4,
 "nbformat_minor": 5
}
