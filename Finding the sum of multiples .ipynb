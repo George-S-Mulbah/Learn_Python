{
 "cells": [
  {
   "cell_type": "code",
   "execution_count": 2,
   "id": "e1cbec07",
   "metadata": {},
   "outputs": [
    {
     "name": "stdout",
     "output_type": "stream",
     "text": [
      "1683\n",
      "635\n",
      "2632\n"
     ]
    }
   ],
   "source": [
    "x = list(range(1,100))\n",
    "\n",
    "threeMultiple=0\n",
    "fourMultiple=0\n",
    "sumOfOthers=0\n",
    "for n in x :\n",
    "    if n % 3==0:\n",
    "        threeMultiple +=n\n",
    "    elif n %5==0: \n",
    "        fourMultiple+=n\n",
    "    else:\n",
    "        sumOfOthers +=n\n",
    "print(threeMultiple)\n",
    "print(fourMultiple)\n",
    "print(sumOfOthers)"
   ]
  },
  {
   "cell_type": "code",
   "execution_count": null,
   "id": "877ed914",
   "metadata": {},
   "outputs": [],
   "source": []
  }
 ],
 "metadata": {
  "kernelspec": {
   "display_name": "Python 3 (ipykernel)",
   "language": "python",
   "name": "python3"
  },
  "language_info": {
   "codemirror_mode": {
    "name": "ipython",
    "version": 3
   },
   "file_extension": ".py",
   "mimetype": "text/x-python",
   "name": "python",
   "nbconvert_exporter": "python",
   "pygments_lexer": "ipython3",
   "version": "3.9.13"
  }
 },
 "nbformat": 4,
 "nbformat_minor": 5
}
